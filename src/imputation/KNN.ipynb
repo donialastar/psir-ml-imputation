{
 "cells": [
  {
   "cell_type": "code",
   "execution_count": 3,
   "id": "f718fd7a",
   "metadata": {},
   "outputs": [],
   "source": [
    "import pandas as pd\n",
    "from sklearn.impute import KNNImputer\n",
    "from sklearn.preprocessing import StandardScaler\n",
    "\n"
   ]
  },
  {
   "cell_type": "code",
   "execution_count": 4,
   "id": "3a6300ac",
   "metadata": {},
   "outputs": [],
   "source": [
    "# 1. Charger le fichier enrichi avec valeurs manquantes\n",
    "df = pd.read_csv(\"C:/Users/bamoi/OneDrive - Groupe ESAIP/$ PSIR/experimentation/repo/psir-ml-imputation/notebooks/hta_nhanes_enrichi.csv\")\n",
    "\n",
    "\n"
   ]
  },
  {
   "cell_type": "code",
   "execution_count": 5,
   "id": "248eb372",
   "metadata": {},
   "outputs": [],
   "source": [
    "# 2. Séparer la colonne cible HTA\n",
    "df_target = df[\"HTA\"]\n",
    "df = df.drop(columns=[\"HTA\"])\n",
    "\n"
   ]
  },
  {
   "cell_type": "code",
   "execution_count": 6,
   "id": "53f2310f",
   "metadata": {},
   "outputs": [],
   "source": [
    "# 3. Sélectionner les colonnes numériques pour l'imputation\n",
    "# (tu peux aussi décider d'encoder certaines colonnes catégorielles ici)\n",
    "df_numeriques = df.select_dtypes(include=[\"float64\", \"int64\"]).copy()\n",
    "\n"
   ]
  },
  {
   "cell_type": "code",
   "execution_count": 7,
   "id": "f6a80e89",
   "metadata": {},
   "outputs": [],
   "source": [
    "# 4. Standardiser les données avant KNN (important pour les distances)\n",
    "scaler = StandardScaler()\n",
    "df_scaled = pd.DataFrame(scaler.fit_transform(df_numeriques), columns=df_numeriques.columns)\n",
    "\n"
   ]
  },
  {
   "cell_type": "code",
   "execution_count": 8,
   "id": "0365bdd0",
   "metadata": {},
   "outputs": [],
   "source": [
    "# 5. Appliquer KNNImputer\n",
    "imputer = KNNImputer(n_neighbors=5, weights=\"uniform\")\n",
    "df_imputed_array = imputer.fit_transform(df_scaled)\n",
    "\n"
   ]
  },
  {
   "cell_type": "code",
   "execution_count": 9,
   "id": "43ee7b09",
   "metadata": {},
   "outputs": [],
   "source": [
    "# 6. Recréer un DataFrame avec les colonnes d’origine imputées\n",
    "df_imputed_scaled = pd.DataFrame(df_imputed_array, columns=df_numeriques.columns)\n",
    "\n"
   ]
  },
  {
   "cell_type": "code",
   "execution_count": 10,
   "id": "e84c48d8",
   "metadata": {},
   "outputs": [],
   "source": [
    "# 7. Inverser la standardisation pour revenir aux valeurs normales\n",
    "df_imputed = pd.DataFrame(scaler.inverse_transform(df_imputed_scaled), columns=df_numeriques.columns)\n",
    "\n"
   ]
  },
  {
   "cell_type": "code",
   "execution_count": 11,
   "id": "764e2069",
   "metadata": {},
   "outputs": [],
   "source": [
    "# 8. Réintégrer les colonnes non numériques (par exemple catégorielles)\n",
    "colonnes_non_numeriques = df.select_dtypes(exclude=[\"float64\", \"int64\"])\n",
    "df_final = pd.concat([colonnes_non_numeriques.reset_index(drop=True),\n",
    "                      df_imputed.reset_index(drop=True)], axis=1)\n",
    "\n"
   ]
  },
  {
   "cell_type": "code",
   "execution_count": 12,
   "id": "1607fcb5",
   "metadata": {},
   "outputs": [],
   "source": [
    "# 9. Réintégrer la colonne cible HTA\n",
    "df_final[\"HTA\"] = df_target.values\n",
    "\n"
   ]
  },
  {
   "cell_type": "code",
   "execution_count": 13,
   "id": "39687868",
   "metadata": {},
   "outputs": [
    {
     "name": "stdout",
     "output_type": "stream",
     "text": [
      "✅ Dataset imputé avec KNN sauvegardé sous : hta_impute_KNN.csv\n"
     ]
    }
   ],
   "source": [
    "# 10. Sauvegarder le dataset imputé\n",
    "df_final.to_csv(\"hta_impute_KNN.csv\", index=False)\n",
    "print(\"✅ Dataset imputé avec KNN sauvegardé sous : hta_impute_KNN.csv\")"
   ]
  }
 ],
 "metadata": {
  "kernelspec": {
   "display_name": "Python 3",
   "language": "python",
   "name": "python3"
  },
  "language_info": {
   "codemirror_mode": {
    "name": "ipython",
    "version": 3
   },
   "file_extension": ".py",
   "mimetype": "text/x-python",
   "name": "python",
   "nbconvert_exporter": "python",
   "pygments_lexer": "ipython3",
   "version": "3.10.0"
  }
 },
 "nbformat": 4,
 "nbformat_minor": 5
}
