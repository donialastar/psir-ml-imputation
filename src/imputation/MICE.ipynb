{
 "cells": [
  {
   "cell_type": "code",
   "execution_count": 1,
   "id": "8c8782a8",
   "metadata": {},
   "outputs": [],
   "source": [
    "import pandas as pd\n",
    "from sklearn.experimental import enable_iterative_imputer  # active IterativeImputer\n",
    "from sklearn.impute import IterativeImputer\n",
    "from sklearn.preprocessing import StandardScaler\n",
    "\n",
    "\n"
   ]
  },
  {
   "cell_type": "code",
   "execution_count": 2,
   "id": "5a92f39d",
   "metadata": {},
   "outputs": [],
   "source": [
    "# 1. Charger les données\n",
    "df = pd.read_csv(\"C:/Users/bamoi/OneDrive - Groupe ESAIP/$ PSIR/experimentation/repo/psir-ml-imputation/notebooks/hta_nhanes_enrichi.csv\")\n",
    "\n"
   ]
  },
  {
   "cell_type": "code",
   "execution_count": 3,
   "id": "110389dd",
   "metadata": {},
   "outputs": [],
   "source": [
    "# 2. Séparer la colonne cible\n",
    "target = df[\"HTA\"]\n",
    "df = df.drop(columns=[\"HTA\"])\n",
    "\n"
   ]
  },
  {
   "cell_type": "code",
   "execution_count": 4,
   "id": "0821b087",
   "metadata": {},
   "outputs": [],
   "source": [
    "# 3. Séparer les colonnes numériques à imputer\n",
    "colonnes_num = df.select_dtypes(include=[\"float64\", \"int64\"]).columns\n",
    "colonnes_non_num = df.select_dtypes(exclude=[\"float64\", \"int64\"]).columns\n",
    "\n"
   ]
  },
  {
   "cell_type": "code",
   "execution_count": 5,
   "id": "c3b92dd9",
   "metadata": {},
   "outputs": [],
   "source": [
    "# 4. Normalisation (important pour les algos de régression dans MICE)\n",
    "scaler = StandardScaler()\n",
    "df_num_scaled = pd.DataFrame(scaler.fit_transform(df[colonnes_num]), columns=colonnes_num)\n",
    "\n"
   ]
  },
  {
   "cell_type": "code",
   "execution_count": 6,
   "id": "7ea01285",
   "metadata": {},
   "outputs": [
    {
     "name": "stderr",
     "output_type": "stream",
     "text": [
      "c:\\Users\\bamoi\\AppData\\Local\\Programs\\Python\\Python310\\lib\\site-packages\\sklearn\\impute\\_iterative.py:895: ConvergenceWarning: [IterativeImputer] Early stopping criterion not reached.\n",
      "  warnings.warn(\n"
     ]
    }
   ],
   "source": [
    "# 5. Appliquer IterativeImputer (MICE)\n",
    "imputer = IterativeImputer(max_iter=10, random_state=0)\n",
    "df_num_imputed = pd.DataFrame(imputer.fit_transform(df_num_scaled), columns=colonnes_num)\n",
    "\n"
   ]
  },
  {
   "cell_type": "code",
   "execution_count": 7,
   "id": "fd6bace4",
   "metadata": {},
   "outputs": [],
   "source": [
    "# 6. Dé-normaliser les données\n",
    "df_num_restored = pd.DataFrame(scaler.inverse_transform(df_num_imputed), columns=colonnes_num)\n",
    "\n"
   ]
  },
  {
   "cell_type": "code",
   "execution_count": 8,
   "id": "b3e81981",
   "metadata": {},
   "outputs": [],
   "source": [
    "# 7. Reconstruire le dataset complet\n",
    "df_non_num = df[colonnes_non_num].reset_index(drop=True)\n",
    "df_imputed = pd.concat([df_non_num, df_num_restored], axis=1)\n",
    "\n"
   ]
  },
  {
   "cell_type": "code",
   "execution_count": 9,
   "id": "97a8048e",
   "metadata": {},
   "outputs": [],
   "source": [
    "# 8. Réintégrer la cible HTA\n",
    "df_imputed[\"HTA\"] = target.values\n",
    "\n"
   ]
  },
  {
   "cell_type": "code",
   "execution_count": 10,
   "id": "b1989353",
   "metadata": {},
   "outputs": [
    {
     "name": "stdout",
     "output_type": "stream",
     "text": [
      "✅ Imputation MICE terminée. Dataset sauvegardé sous : hta_impute_MICE.csv\n"
     ]
    }
   ],
   "source": [
    "# 9. Sauvegarder\n",
    "df_imputed.to_csv(\"hta_impute_MICE.csv\", index=False)\n",
    "print(\"✅ Imputation MICE terminée. Dataset sauvegardé sous : hta_impute_MICE.csv\")"
   ]
  }
 ],
 "metadata": {
  "kernelspec": {
   "display_name": "Python 3",
   "language": "python",
   "name": "python3"
  },
  "language_info": {
   "codemirror_mode": {
    "name": "ipython",
    "version": 3
   },
   "file_extension": ".py",
   "mimetype": "text/x-python",
   "name": "python",
   "nbconvert_exporter": "python",
   "pygments_lexer": "ipython3",
   "version": "3.10.0"
  }
 },
 "nbformat": 4,
 "nbformat_minor": 5
}
