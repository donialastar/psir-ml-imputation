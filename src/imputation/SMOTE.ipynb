{
 "cells": [
  {
   "cell_type": "markdown",
   "id": "aab58a79",
   "metadata": {},
   "source": [
    "DEPUIS MICE"
   ]
  },
  {
   "cell_type": "code",
   "execution_count": 30,
   "id": "62361100",
   "metadata": {},
   "outputs": [],
   "source": [
    "import pandas as pd\n",
    "from imblearn.over_sampling import SMOTE\n",
    "from sklearn.model_selection import train_test_split\n",
    "from sklearn.preprocessing import OneHotEncoder\n",
    "import os\n"
   ]
  },
  {
   "cell_type": "code",
   "execution_count": 31,
   "id": "ae6d8820",
   "metadata": {},
   "outputs": [],
   "source": [
    "# 1. Charger un dataset déjà imputé (ex. par KNN ou MICE)\n",
    "df = pd.read_csv(\"C:/Users/bamoi/OneDrive - Groupe ESAIP/$ PSIR/experimentation/repo/psir-ml-imputation/src/imputation/hta_impute_MICE.csv\")  # tu peux changer par KNN aussi\n",
    "\n"
   ]
  },
  {
   "cell_type": "code",
   "execution_count": 32,
   "id": "096693d1",
   "metadata": {},
   "outputs": [],
   "source": [
    "# 2. Séparer les features et la cible\n",
    "X = df.drop(columns=[\"HTA\"])\n",
    "y = df[\"HTA\"]\n",
    "\n"
   ]
  },
  {
   "cell_type": "code",
   "execution_count": 33,
   "id": "6b10d132",
   "metadata": {},
   "outputs": [],
   "source": [
    "# 3. Séparer en train/test avant SMOTE (important !)\n",
    "X_train, X_test, y_train, y_test = train_test_split(\n",
    "    X, y, test_size=0.2, stratify=y, random_state=42\n",
    ")\n",
    "\n"
   ]
  },
  {
   "cell_type": "markdown",
   "id": "73843085",
   "metadata": {},
   "source": [
    "One-Hot Encoding sur les colonnes non numériques"
   ]
  },
  {
   "cell_type": "code",
   "execution_count": 34,
   "id": "f6c83333",
   "metadata": {},
   "outputs": [
    {
     "name": "stdout",
     "output_type": "stream",
     "text": [
      "🧠 One-hot encoding des colonnes catégorielles : ['groupe_age']\n"
     ]
    }
   ],
   "source": [
    "cat_cols = X_train.select_dtypes(include=\"object\").columns.tolist()\n",
    "encoder = OneHotEncoder(sparse_output=False, handle_unknown=\"ignore\")\n",
    "encoder.fit(X_train[cat_cols])\n",
    "\n",
    "print(\"🧠 One-hot encoding des colonnes catégorielles :\", cat_cols)\n",
    "X_train_encoded = encoder.fit_transform(X_train[cat_cols])\n",
    "X_test_encoded = encoder.transform(X_test[cat_cols])\n",
    "\n",
    "encoded_col_names = encoder.get_feature_names_out(cat_cols)"
   ]
  },
  {
   "cell_type": "markdown",
   "id": "9c574056",
   "metadata": {},
   "source": [
    "Numériques bruts"
   ]
  },
  {
   "cell_type": "code",
   "execution_count": 35,
   "id": "32eb7944",
   "metadata": {},
   "outputs": [],
   "source": [
    "X_train_num = X_train.drop(columns=cat_cols).reset_index(drop=True)\n",
    "X_test_num = X_test.drop(columns=cat_cols).reset_index(drop=True)"
   ]
  },
  {
   "cell_type": "markdown",
   "id": "9a284c5f",
   "metadata": {},
   "source": [
    "Recomposer les matrices complètes encodées"
   ]
  },
  {
   "cell_type": "code",
   "execution_count": 36,
   "id": "59327432",
   "metadata": {},
   "outputs": [],
   "source": [
    "X_train_full = pd.concat([\n",
    "        X_train_num,\n",
    "        pd.DataFrame(X_train_encoded, columns=encoded_col_names)\n",
    "    ], axis=1)\n",
    "\n",
    "X_test_full = pd.concat([\n",
    "        X_test_num,\n",
    "        pd.DataFrame(X_test_encoded, columns=encoded_col_names)\n",
    "    ], axis=1)"
   ]
  },
  {
   "cell_type": "code",
   "execution_count": 37,
   "id": "375d2fe6",
   "metadata": {},
   "outputs": [],
   "source": [
    "# 4. Appliquer SMOTE uniquement sur le training set\n",
    "smote = SMOTE(random_state=42, k_neighbors=5)\n",
    "X_train_smote, y_train_smote = smote.fit_resample(X_train_full, y_train)"
   ]
  },
  {
   "cell_type": "code",
   "execution_count": 38,
   "id": "eee5b3e4",
   "metadata": {},
   "outputs": [
    {
     "name": "stdout",
     "output_type": "stream",
     "text": [
      "📊 Distribution des classes après SMOTE :\n",
      "HTA\n",
      "False    9070\n",
      "True     9070\n",
      "Name: count, dtype: int64\n"
     ]
    }
   ],
   "source": [
    "# 5. Vérifier la nouvelle distribution des classes\n",
    "print(\"📊 Distribution des classes après SMOTE :\")\n",
    "print(y_train_smote.value_counts())\n",
    "\n"
   ]
  },
  {
   "cell_type": "code",
   "execution_count": null,
   "id": "e4c5c685",
   "metadata": {},
   "outputs": [
    {
     "name": "stdout",
     "output_type": "stream",
     "text": [
      "✅ Datasets équilibrés sauvegardés : train_SMOTE.csv et test_original.csv\n"
     ]
    }
   ],
   "source": [
    "# 6. Sauvegarder les datasets équilibrés (facultatif mais conseillé)\n",
    "pd.DataFrame(X_train_smote, columns=X_train_full.columns).assign(HTA=y_train_smote).to_csv(\"train_SMOTE_MICE.csv\", index=False)\n",
    "pd.DataFrame(X_test_full, columns=X_test_full.columns).assign(HTA=y_test.values).to_csv(\"test_original_MICE.csv\", index=False)\n",
    "print(\"✅ Datasets équilibrés sauvegardés : train_SMOTE.csv et test_original.csv\")"
   ]
  },
  {
   "cell_type": "markdown",
   "id": "f9197838",
   "metadata": {},
   "source": [
    "# DEPUIS KNN"
   ]
  },
  {
   "cell_type": "code",
   "execution_count": 40,
   "id": "ad5bfe3a",
   "metadata": {},
   "outputs": [],
   "source": [
    "# 1. Charger un dataset déjà imputé (ex. par KNN ou MICE)\n",
    "df = pd.read_csv(\"C:/Users/bamoi/OneDrive - Groupe ESAIP/$ PSIR/experimentation/repo/psir-ml-imputation/src/imputation/hta_impute_KNN.csv\")  # tu peux changer par KNN aussi"
   ]
  },
  {
   "cell_type": "code",
   "execution_count": 41,
   "id": "1a40d981",
   "metadata": {},
   "outputs": [],
   "source": [
    "# 2. Séparer les features et la cible\n",
    "X = df.drop(columns=[\"HTA\"])\n",
    "y = df[\"HTA\"]"
   ]
  },
  {
   "cell_type": "code",
   "execution_count": 42,
   "id": "7e482538",
   "metadata": {},
   "outputs": [],
   "source": [
    "# 3. Séparer en train/test avant SMOTE (important !)\n",
    "X_train, X_test, y_train, y_test = train_test_split(\n",
    "    X, y, test_size=0.2, stratify=y, random_state=42\n",
    ")"
   ]
  },
  {
   "cell_type": "markdown",
   "id": "18b2eb4a",
   "metadata": {},
   "source": [
    "One-Hot Encoding sur les colonnes non numériques"
   ]
  },
  {
   "cell_type": "code",
   "execution_count": 43,
   "id": "eda57cac",
   "metadata": {},
   "outputs": [
    {
     "name": "stdout",
     "output_type": "stream",
     "text": [
      "🧠 One-hot encoding des colonnes catégorielles : ['groupe_age']\n"
     ]
    }
   ],
   "source": [
    "cat_cols = X_train.select_dtypes(include=\"object\").columns.tolist()\n",
    "encoder = OneHotEncoder(sparse_output=False, handle_unknown=\"ignore\")\n",
    "\n",
    "print(\"🧠 One-hot encoding des colonnes catégorielles :\", cat_cols)\n",
    "X_train_encoded = encoder.fit_transform(X_train[cat_cols])\n",
    "X_test_encoded = encoder.transform(X_test[cat_cols])\n",
    "\n",
    "encoded_col_names = encoder.get_feature_names_out(cat_cols)"
   ]
  },
  {
   "cell_type": "markdown",
   "id": "d54d72e9",
   "metadata": {},
   "source": [
    "Numériques bruts"
   ]
  },
  {
   "cell_type": "code",
   "execution_count": 44,
   "id": "bd899562",
   "metadata": {},
   "outputs": [],
   "source": [
    "X_train_num = X_train.drop(columns=cat_cols).reset_index(drop=True)\n",
    "X_test_num = X_test.drop(columns=cat_cols).reset_index(drop=True)"
   ]
  },
  {
   "cell_type": "markdown",
   "id": "425004bc",
   "metadata": {},
   "source": [
    "Recomposer les matrices complètes encodées"
   ]
  },
  {
   "cell_type": "code",
   "execution_count": 45,
   "id": "7465be68",
   "metadata": {},
   "outputs": [],
   "source": [
    "X_train_full = pd.concat([\n",
    "        X_train_num,\n",
    "        pd.DataFrame(X_train_encoded, columns=encoded_col_names)\n",
    "    ], axis=1)\n",
    "\n",
    "X_test_full = pd.concat([\n",
    "        X_test_num,\n",
    "        pd.DataFrame(X_test_encoded, columns=encoded_col_names)\n",
    "    ], axis=1)"
   ]
  },
  {
   "cell_type": "code",
   "execution_count": 46,
   "id": "d17659f7",
   "metadata": {},
   "outputs": [],
   "source": [
    "\n",
    "# 4. Appliquer SMOTE uniquement sur le training set\n",
    "smote = SMOTE(random_state=42, k_neighbors=5)\n",
    "X_train_smote, y_train_smote = smote.fit_resample(X_train_full, y_train)\n",
    "\n"
   ]
  },
  {
   "cell_type": "code",
   "execution_count": 47,
   "id": "a26f154f",
   "metadata": {},
   "outputs": [
    {
     "name": "stdout",
     "output_type": "stream",
     "text": [
      "📊 Distribution des classes après SMOTE :\n",
      "HTA\n",
      "False    9070\n",
      "True     9070\n",
      "Name: count, dtype: int64\n"
     ]
    }
   ],
   "source": [
    "# 5. Vérifier la nouvelle distribution des classes\n",
    "print(\"📊 Distribution des classes après SMOTE :\")\n",
    "print(y_train_smote.value_counts())\n",
    "\n"
   ]
  },
  {
   "cell_type": "code",
   "execution_count": 48,
   "id": "0e14ff22",
   "metadata": {},
   "outputs": [
    {
     "name": "stdout",
     "output_type": "stream",
     "text": [
      "✅ Datasets équilibrés sauvegardés : train_SMOTE.csv et test_original.csv\n"
     ]
    }
   ],
   "source": [
    "# 6. Sauvegarder les datasets équilibrés (facultatif mais conseillé)\n",
    "pd.DataFrame(X_train_smote, columns=X.columns).assign(HTA=y_train_smote).to_csv(\"train_SMOTE_KNN.csv\", index=False)\n",
    "pd.DataFrame(X_test, columns=X.columns).assign(HTA=y_test).to_csv(\"test_original_KNN.csv\", index=False)\n",
    "print(\"✅ Datasets équilibrés sauvegardés : train_SMOTE.csv et test_original.csv\")"
   ]
  }
 ],
 "metadata": {
  "kernelspec": {
   "display_name": "Python 3",
   "language": "python",
   "name": "python3"
  },
  "language_info": {
   "codemirror_mode": {
    "name": "ipython",
    "version": 3
   },
   "file_extension": ".py",
   "mimetype": "text/x-python",
   "name": "python",
   "nbconvert_exporter": "python",
   "pygments_lexer": "ipython3",
   "version": "3.10.0"
  }
 },
 "nbformat": 4,
 "nbformat_minor": 5
}
